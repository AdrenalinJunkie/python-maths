{
 "cells": [
  {
   "cell_type": "code",
   "execution_count": 30,
   "metadata": {},
   "outputs": [],
   "source": [
    "import matplotlib.pyplot as plt\n",
    "import numpy as np\n",
    "poly = np.polynomial.polynomial\n",
    "import math\n",
    "\n",
    "%matplotlib inline\n"
   ]
  },
  {
   "cell_type": "markdown",
   "metadata": {},
   "source": [
    "# Question 1"
   ]
  },
  {
   "cell_type": "code",
   "execution_count": 31,
   "metadata": {},
   "outputs": [],
   "source": [
    "def evaluate(g,x):\n",
    "    answer=0\n",
    "    n=len(g)\n",
    "    for i in reversed(range(n)):\n",
    "        answer+=g[i]*x**(n-1-i)\n",
    "    return answer"
   ]
  },
  {
   "cell_type": "code",
   "execution_count": 32,
   "metadata": {},
   "outputs": [],
   "source": [
    "def question1(A,B):\n",
    "    a = A[0]\n",
    "    n = len(B) - 1\n",
    "    fRoots = np.roots(A).tolist()\n",
    "    answer=1\n",
    "    for root in fRoots:\n",
    "#         answer*=np.polyval(B,root)\n",
    "        answer*=evaluate(B,root)\n",
    "    answer*=a**n\n",
    "    return answer"
   ]
  },
  {
   "cell_type": "markdown",
   "metadata": {},
   "source": [
    "# Question 2"
   ]
  },
  {
   "cell_type": "code",
   "execution_count": 43,
   "metadata": {},
   "outputs": [],
   "source": [
    "#returns the matrix without the ith row and the jth column, indexing from 0\n",
    "def stepA(matrix,i,j):\n",
    "    newMatrix = []\n",
    "    newishMatrix = matrix[:i] + matrix[i+1:]\n",
    "    for row in newishMatrix:\n",
    "        newMatrix.append(row[:j] + row[j+1:])\n",
    "    return newMatrix\n",
    "\n",
    "\n",
    "def det(matrix):\n",
    "    if len(matrix)==1:\n",
    "        return matrix[0][0]\n",
    "    answer=0\n",
    "    row = matrix[0]\n",
    "    for i in range(0,len(row)):\n",
    "        answer+=(-1)**i * row[i] * det(stepA(matrix,0,i))\n",
    "    return answer"
   ]
  },
  {
   "cell_type": "code",
   "execution_count": 46,
   "metadata": {},
   "outputs": [],
   "source": [
    "def question2(A,B):\n",
    "    m = len(A) - 1\n",
    "    n = len(B) - 1\n",
    "    matrixList = []\n",
    "    for i in range(0, n):\n",
    "        newA = list ([0]*i + A + [0]*(n-1-i))\n",
    "        matrixList.append(newA)\n",
    "    for j in range(0, m):\n",
    "        newB = list([0]*j + B + [0]*(m-1-j))\n",
    "        matrixList.append(newB)\n",
    "#     matrix = np.array(matrixList)\n",
    "    \n",
    "    determinant = det(matrixList)\n",
    "#     determinant = np.linalg.det(matrix)\n",
    "    return determinant"
   ]
  },
  {
   "cell_type": "markdown",
   "metadata": {},
   "source": [
    "# Question 3"
   ]
  },
  {
   "cell_type": "code",
   "execution_count": 54,
   "metadata": {},
   "outputs": [],
   "source": [
    "#removes leading zeros\n",
    "def deZero(A):\n",
    "    if len(A)==0:\n",
    "        return A\n",
    "    while A[0]==0:\n",
    "        A = A[1::]\n",
    "        if len(A)==0:\n",
    "            return A\n",
    "    return A"
   ]
  },
  {
   "cell_type": "code",
   "execution_count": 59,
   "metadata": {},
   "outputs": [],
   "source": [
    "def question3(A,B):\n",
    "    m = len(A) - 1\n",
    "    n = len(B) - 1\n",
    "    r = A\n",
    "    q = [0]*(m-n)\n",
    "    c = 1\n",
    "    while m >= n:\n",
    "        a = r[0]\n",
    "        b = B[0]\n",
    "        d = math.gcd(int(a),int(b))\n",
    "        c *= b//d\n",
    "        addQ = [a//d] + [0]*(m-n)\n",
    "        subG = np.polymul(addQ,B)\n",
    "        q = np.polymul(q,[b//d])\n",
    "        q = np.polyadd(q,addQ)\n",
    "        r = np.polymul(r,[b//d])\n",
    "        r = deZero(np.polysub(r,subG))\n",
    "        m = len(r) - 1\n",
    "    return c,q,r"
   ]
  },
  {
   "cell_type": "code",
   "execution_count": 60,
   "metadata": {},
   "outputs": [
    {
     "data": {
      "text/plain": [
       "(1, array([2.]), array([ -2, -32, -78]))"
      ]
     },
     "execution_count": 60,
     "metadata": {},
     "output_type": "execute_result"
    }
   ],
   "source": [
    "question3([2,22,62,42],[1,12,47,60])"
   ]
  },
  {
   "cell_type": "code",
   "execution_count": 61,
   "metadata": {},
   "outputs": [],
   "source": [
    "def question3part2(leadingcoefficient,A,B):\n",
    "    if len(A) < len(B):\n",
    "        A,B = list(B),list(A)\n",
    "    print(leadingcoefficient,A,B)\n",
    "    if B==[]:\n",
    "        return 0\n",
    "    if len(B)==1:\n",
    "        return A[0]*B[0]*leadingcoefficient\n",
    "    df,dg = len(A) - 1,len(B) - 1\n",
    "    coeff,q,newB = question3(A,B)\n",
    "    print(coeff,q,newB)\n",
    "    A,B = list(B),list(newB)\n",
    "    leadingcoefficient *= ((coeff*(-1)**(df)) ** (-dg)) * A[0]**(df-dg)\n",
    "    return question3part2(leadingcoefficient,A,B)"
   ]
  },
  {
   "cell_type": "code",
   "execution_count": 62,
   "metadata": {},
   "outputs": [
    {
     "name": "stdout",
     "output_type": "stream",
     "text": [
      "1 [2, 22, 62, 42] [1, 12, 47, 60]\n",
      "1 [2.] [ -2 -32 -78]\n",
      "-1.0 [1, 12, 47, 60] [-2, -32, -78]\n",
      "2 [-1.  4.] [144 432]\n"
     ]
    },
    {
     "ename": "ValueError",
     "evalue": "Integers to negative integer powers are not allowed.",
     "output_type": "error",
     "traceback": [
      "\u001b[0;31m---------------------------------------------------------------------------\u001b[0m",
      "\u001b[0;31mValueError\u001b[0m                                Traceback (most recent call last)",
      "\u001b[0;32m<ipython-input-62-c5fabd5e98f8>\u001b[0m in \u001b[0;36m<module>\u001b[0;34m\u001b[0m\n\u001b[0;32m----> 1\u001b[0;31m \u001b[0mQuestion3part2\u001b[0m\u001b[0;34m(\u001b[0m\u001b[0;36m1\u001b[0m\u001b[0;34m,\u001b[0m\u001b[0;34m[\u001b[0m\u001b[0;36m2\u001b[0m\u001b[0;34m,\u001b[0m\u001b[0;36m22\u001b[0m\u001b[0;34m,\u001b[0m\u001b[0;36m62\u001b[0m\u001b[0;34m,\u001b[0m\u001b[0;36m42\u001b[0m\u001b[0;34m]\u001b[0m\u001b[0;34m,\u001b[0m\u001b[0;34m[\u001b[0m\u001b[0;36m1\u001b[0m\u001b[0;34m,\u001b[0m\u001b[0;36m12\u001b[0m\u001b[0;34m,\u001b[0m\u001b[0;36m47\u001b[0m\u001b[0;34m,\u001b[0m\u001b[0;36m60\u001b[0m\u001b[0;34m]\u001b[0m\u001b[0;34m)\u001b[0m\u001b[0;34m\u001b[0m\u001b[0;34m\u001b[0m\u001b[0m\n\u001b[0m",
      "\u001b[0;32m<ipython-input-56-93affc5f0cfb>\u001b[0m in \u001b[0;36mQuestion3part2\u001b[0;34m(leadingcoefficient, A, B)\u001b[0m\n\u001b[1;32m     12\u001b[0m     \u001b[0mA\u001b[0m\u001b[0;34m,\u001b[0m\u001b[0mB\u001b[0m \u001b[0;34m=\u001b[0m \u001b[0mlist\u001b[0m\u001b[0;34m(\u001b[0m\u001b[0mB\u001b[0m\u001b[0;34m)\u001b[0m\u001b[0;34m,\u001b[0m\u001b[0mlist\u001b[0m\u001b[0;34m(\u001b[0m\u001b[0mnewB\u001b[0m\u001b[0;34m)\u001b[0m\u001b[0;34m\u001b[0m\u001b[0;34m\u001b[0m\u001b[0m\n\u001b[1;32m     13\u001b[0m     \u001b[0mleadingcoefficient\u001b[0m \u001b[0;34m*=\u001b[0m \u001b[0;34m(\u001b[0m\u001b[0;34m(\u001b[0m\u001b[0mcoeff\u001b[0m\u001b[0;34m*\u001b[0m\u001b[0;34m(\u001b[0m\u001b[0;34m-\u001b[0m\u001b[0;36m1\u001b[0m\u001b[0;34m)\u001b[0m\u001b[0;34m**\u001b[0m\u001b[0;34m(\u001b[0m\u001b[0mdf\u001b[0m\u001b[0;34m)\u001b[0m\u001b[0;34m)\u001b[0m \u001b[0;34m**\u001b[0m \u001b[0;34m(\u001b[0m\u001b[0;34m-\u001b[0m\u001b[0mdg\u001b[0m\u001b[0;34m)\u001b[0m\u001b[0;34m)\u001b[0m \u001b[0;34m*\u001b[0m \u001b[0mA\u001b[0m\u001b[0;34m[\u001b[0m\u001b[0;36m0\u001b[0m\u001b[0;34m]\u001b[0m\u001b[0;34m**\u001b[0m\u001b[0;34m(\u001b[0m\u001b[0mdf\u001b[0m\u001b[0;34m-\u001b[0m\u001b[0mdg\u001b[0m\u001b[0;34m)\u001b[0m\u001b[0;34m\u001b[0m\u001b[0;34m\u001b[0m\u001b[0m\n\u001b[0;32m---> 14\u001b[0;31m     \u001b[0;32mreturn\u001b[0m \u001b[0mQuestion3part2\u001b[0m\u001b[0;34m(\u001b[0m\u001b[0mleadingcoefficient\u001b[0m\u001b[0;34m,\u001b[0m\u001b[0mA\u001b[0m\u001b[0;34m,\u001b[0m\u001b[0mB\u001b[0m\u001b[0;34m)\u001b[0m\u001b[0;34m\u001b[0m\u001b[0;34m\u001b[0m\u001b[0m\n\u001b[0m",
      "\u001b[0;32m<ipython-input-56-93affc5f0cfb>\u001b[0m in \u001b[0;36mQuestion3part2\u001b[0;34m(leadingcoefficient, A, B)\u001b[0m\n\u001b[1;32m     11\u001b[0m     \u001b[0mprint\u001b[0m\u001b[0;34m(\u001b[0m\u001b[0mcoeff\u001b[0m\u001b[0;34m,\u001b[0m\u001b[0mq\u001b[0m\u001b[0;34m,\u001b[0m\u001b[0mnewB\u001b[0m\u001b[0;34m)\u001b[0m\u001b[0;34m\u001b[0m\u001b[0;34m\u001b[0m\u001b[0m\n\u001b[1;32m     12\u001b[0m     \u001b[0mA\u001b[0m\u001b[0;34m,\u001b[0m\u001b[0mB\u001b[0m \u001b[0;34m=\u001b[0m \u001b[0mlist\u001b[0m\u001b[0;34m(\u001b[0m\u001b[0mB\u001b[0m\u001b[0;34m)\u001b[0m\u001b[0;34m,\u001b[0m\u001b[0mlist\u001b[0m\u001b[0;34m(\u001b[0m\u001b[0mnewB\u001b[0m\u001b[0;34m)\u001b[0m\u001b[0;34m\u001b[0m\u001b[0;34m\u001b[0m\u001b[0m\n\u001b[0;32m---> 13\u001b[0;31m     \u001b[0mleadingcoefficient\u001b[0m \u001b[0;34m*=\u001b[0m \u001b[0;34m(\u001b[0m\u001b[0;34m(\u001b[0m\u001b[0mcoeff\u001b[0m\u001b[0;34m*\u001b[0m\u001b[0;34m(\u001b[0m\u001b[0;34m-\u001b[0m\u001b[0;36m1\u001b[0m\u001b[0;34m)\u001b[0m\u001b[0;34m**\u001b[0m\u001b[0;34m(\u001b[0m\u001b[0mdf\u001b[0m\u001b[0;34m)\u001b[0m\u001b[0;34m)\u001b[0m \u001b[0;34m**\u001b[0m \u001b[0;34m(\u001b[0m\u001b[0;34m-\u001b[0m\u001b[0mdg\u001b[0m\u001b[0;34m)\u001b[0m\u001b[0;34m)\u001b[0m \u001b[0;34m*\u001b[0m \u001b[0mA\u001b[0m\u001b[0;34m[\u001b[0m\u001b[0;36m0\u001b[0m\u001b[0;34m]\u001b[0m\u001b[0;34m**\u001b[0m\u001b[0;34m(\u001b[0m\u001b[0mdf\u001b[0m\u001b[0;34m-\u001b[0m\u001b[0mdg\u001b[0m\u001b[0;34m)\u001b[0m\u001b[0;34m\u001b[0m\u001b[0;34m\u001b[0m\u001b[0m\n\u001b[0m\u001b[1;32m     14\u001b[0m     \u001b[0;32mreturn\u001b[0m \u001b[0mQuestion3part2\u001b[0m\u001b[0;34m(\u001b[0m\u001b[0mleadingcoefficient\u001b[0m\u001b[0;34m,\u001b[0m\u001b[0mA\u001b[0m\u001b[0;34m,\u001b[0m\u001b[0mB\u001b[0m\u001b[0;34m)\u001b[0m\u001b[0;34m\u001b[0m\u001b[0;34m\u001b[0m\u001b[0m\n",
      "\u001b[0;31mValueError\u001b[0m: Integers to negative integer powers are not allowed."
     ]
    }
   ],
   "source": [
    "Question3part2(1,[2,22,62,42],[1,12,47,60])"
   ]
  },
  {
   "cell_type": "markdown",
   "metadata": {},
   "source": [
    "# Question 4"
   ]
  },
  {
   "cell_type": "code",
   "execution_count": 7,
   "metadata": {},
   "outputs": [],
   "source": [
    "def primeFactors(n):\n",
    "    i=2\n",
    "    factorList=[]\n",
    "    while n>1:\n",
    "        if n%i==0:\n",
    "            factorList.append(i)\n",
    "            n/=i\n",
    "        else:\n",
    "            i+=1\n",
    "    return factorList\n",
    "    \n",
    "def Question4(A,B):\n",
    "    if len(A)<len(B):\n",
    "        A,B = list(B),list(A)\n",
    "    if B==[]:\n",
    "        return 0\n",
    "    if len(B)==1:\n",
    "        return B\n",
    "    coeff,q,newB = Question3(A,B)\n",
    "    print(str(coeff) + str(A) + \" = \" + str(q) + str(B) + \" + \" + str(newB))\n",
    "    A,B = list(B),list(newB)\n",
    "    return Question4(A,B)\n",
    "    \n",
    "def change(A,p):\n",
    "    for i in range(0,len(A)):\n",
    "        A[i]%=p\n",
    "    return A\n",
    "    \n",
    "def Question4p(A,B,p):\n",
    "    A=deZero(change(A,p))\n",
    "    B=deZero(change(B,p))\n",
    "    if len(A)<len(B):\n",
    "        A,B = list(B),list(A)\n",
    "    if B==[]:\n",
    "        return 0\n",
    "    if len(B)==1:\n",
    "        return B\n",
    "    coeff,q,newB = Question3(A,B)\n",
    "    print(str(coeff) + str(A) + \" = \" + str(q) + str(B) + \" + \" + str(newB))\n",
    "    A,B = list(B),list(newB)\n",
    "    return Question4p(A,B,p)"
   ]
  },
  {
   "cell_type": "markdown",
   "metadata": {},
   "source": [
    "# Question 5"
   ]
  },
  {
   "cell_type": "code",
   "execution_count": null,
   "metadata": {},
   "outputs": [],
   "source": []
  }
 ],
 "metadata": {
  "kernelspec": {
   "display_name": "Python 3",
   "language": "python",
   "name": "python3"
  },
  "language_info": {
   "codemirror_mode": {
    "name": "ipython",
    "version": 3
   },
   "file_extension": ".py",
   "mimetype": "text/x-python",
   "name": "python",
   "nbconvert_exporter": "python",
   "pygments_lexer": "ipython3",
   "version": "3.7.1"
  }
 },
 "nbformat": 4,
 "nbformat_minor": 2
}

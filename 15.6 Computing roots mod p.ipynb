{
 "cells": [
  {
   "cell_type": "markdown",
   "metadata": {},
   "source": [
    "importing necessary libraries"
   ]
  },
  {
   "cell_type": "code",
   "execution_count": 1,
   "metadata": {},
   "outputs": [],
   "source": [
    "import matplotlib.pyplot as plt\n",
    "import numpy as np\n",
    "poly = np.polynomial.polynomial\n",
    "import math\n",
    "import random\n",
    "import pandas as pd\n",
    "import time"
   ]
  },
  {
   "cell_type": "code",
   "execution_count": 2,
   "metadata": {},
   "outputs": [],
   "source": [
    "easyP=10708729"
   ]
  },
  {
   "cell_type": "markdown",
   "metadata": {},
   "source": [
    "# Question 1"
   ]
  },
  {
   "cell_type": "code",
   "execution_count": 3,
   "metadata": {},
   "outputs": [],
   "source": [
    "#uses repeated squaring method to calculate (a/p) using Euler's criterion\n",
    "def legendre1(a,p):\n",
    "    i=(p-1)//2\n",
    "    answer=1\n",
    "    multiplier=a%p\n",
    "    while i>0:\n",
    "        if i%2!=0:\n",
    "            answer*=multiplier\n",
    "            answer%=p\n",
    "            i-=1\n",
    "        i//=2\n",
    "        multiplier*=multiplier\n",
    "        multiplier%=p\n",
    "    if answer==p-1:\n",
    "        answer=-1\n",
    "    return answer\n",
    "\n",
    "#returns first the tally, then the list of 100 random numbers between 1 and p and their legendre symbols\n",
    "#then returns first the tally, the the list of the legendre symbols of numbers from 1 to 100\n",
    "def question1(p):\n",
    "    legendreList1=[]\n",
    "    answer1=0\n",
    "    legendreList2=[]\n",
    "    answer2=0\n",
    "    for i in range(1,101):\n",
    "        a=random.randint(1,p)\n",
    "        l1=legendre1(a,p)\n",
    "        l2=legendre1(i,p)\n",
    "        if l1==1:\n",
    "            answer1+=1\n",
    "        legendreList1.append((a,l1))\n",
    "        if l2==1:\n",
    "            answer2+=1\n",
    "        legendreList2.append((i,l2))\n",
    "    print(\"The first tally of quadratic residues is \"+str(answer1))\n",
    "    print(legendreList1)\n",
    "    print(\"The second tally of quadratic residues between 1 and 100 is \"+str(answer2))\n",
    "    print(legendreList2)"
   ]
  },
  {
   "cell_type": "markdown",
   "metadata": {},
   "source": [
    "# Question 2"
   ]
  },
  {
   "cell_type": "markdown",
   "metadata": {},
   "source": [
    "pretty sure this isn't the koblitz version so need to redo"
   ]
  },
  {
   "cell_type": "code",
   "execution_count": 4,
   "metadata": {},
   "outputs": [],
   "source": [
    "def primeFactors(n):\n",
    "    i=2\n",
    "    factorList=[]\n",
    "    while n>1:\n",
    "        if i**2>n:\n",
    "            factorList.append(n)\n",
    "            return factorList\n",
    "        if n%i==0:\n",
    "            factorList.append(i)\n",
    "            n/=i\n",
    "        else:\n",
    "            i+=1\n",
    "    return factorList\n",
    "  \n",
    "def question2(a,p):\n",
    "    Answer=1\n",
    "    a%=p\n",
    "    if a==1:\n",
    "        return 1\n",
    "    if a==p-1:\n",
    "        if p%4==1:\n",
    "            return 1\n",
    "        else:\n",
    "            return -1\n",
    "    if a==2:\n",
    "        if p%8==1 or p%8==7:\n",
    "            return 1\n",
    "        else:\n",
    "            return -1\n",
    "    factors1=primeFactors(a)\n",
    "    for i in primeFactors(a):\n",
    "        if i==2:\n",
    "            if p%8==1 or p%8==7:\n",
    "                Answer*=1\n",
    "            else:\n",
    "                Answer*=-1\n",
    "        else:\n",
    "            if p%4==3 and i%4==3:\n",
    "                Answer*=-question2(p,i)\n",
    "            else:\n",
    "                Answer*=question2(p,i)\n",
    "    return Answer\n",
    "#note to self: see if there is any way of making the last line more efficient"
   ]
  },
  {
   "cell_type": "code",
   "execution_count": 5,
   "metadata": {},
   "outputs": [],
   "source": [
    "#we're assuming b an odd prime, a any integer. So don't need to check if b==0, don't need to do the dividing by two.\n",
    "#unfortunately that was as far as I'd read up to\n",
    "def kronecker(a,b):\n",
    "    k=1\n",
    "    if a==0:\n",
    "        return 0\n",
    "    return inner(a,b,k)\n",
    "     \n",
    "#can assume b is odd because we made old a odd\n",
    "def inner(a,b,k):\n",
    "    power=0\n",
    "    while a%2==0:\n",
    "        a//=2\n",
    "        power+=1\n",
    "    if power%2!=0:\n",
    "        if b%8==3 or b%8==5:\n",
    "            k*=-1\n",
    "    if b%4==3 and a%4==3:\n",
    "        k*=-1\n",
    "    if a==1:\n",
    "        return k\n",
    "    return inner(b%abs(a),abs(a),k)\n",
    "\n",
    "\n",
    "#not fast enough, so need to take out recursive aspect\n",
    "\n",
    "\n",
    "def kronecker1(a,b):\n",
    "    k=1\n",
    "    if a==0:\n",
    "        return 0\n",
    "    while b!=1:\n",
    "        power=0\n",
    "        while a%2==0:\n",
    "            a//=2\n",
    "            power+=1\n",
    "        if power%2!=0:\n",
    "            if b%8==3 or b%8==5:\n",
    "                k*=-1\n",
    "        if b%4==3:\n",
    "            #even though we're testing numbers larger than 0, need this just in case\n",
    "            if a<0:\n",
    "                k*=-1\n",
    "                a=abs(a)\n",
    "            if a%4==3:\n",
    "                k*=-1\n",
    "        (a,b) = (b%a,a)\n",
    "    return k\n",
    "\n",
    "def kronecker2(a,b):\n",
    "    a%=b\n",
    "    k=1\n",
    "    if a==0:\n",
    "        return 0\n",
    "    while b!=1:\n",
    "        power=0\n",
    "        while a%2==0:\n",
    "            a//=2\n",
    "            power+=1\n",
    "        if power%2!=0:\n",
    "            if b%8==3 or b%8==5:\n",
    "                k*=-1\n",
    "        if b%4==3:\n",
    "            #even though we're testing numbers larger than 0, need this just in case\n",
    "            if a<0:\n",
    "                k*=-1\n",
    "                a=abs(a)\n",
    "            if a%4==3:\n",
    "                k*=-1\n",
    "        (a,b) = (b%a,a)\n",
    "    return k"
   ]
  },
  {
   "cell_type": "code",
   "execution_count": 6,
   "metadata": {
    "scrolled": true
   },
   "outputs": [
    {
     "name": "stdout",
     "output_type": "stream",
     "text": [
      "0.1006929874420166\n",
      "0.08130908012390137\n"
     ]
    }
   ],
   "source": [
    "# start = time.time()\n",
    "# for i in range(1,1000001):\n",
    "#     kronecker(i,10708729)\n",
    "# end = time.time()\n",
    "# print(end - start)\n",
    "\n",
    "start = time.time()\n",
    "for i in range(10000000000000,10000000020000):\n",
    "    kronecker1(i,10708729)\n",
    "end = time.time()\n",
    "print(end - start)\n",
    "\n",
    "start = time.time()\n",
    "for i in range(10000000000,10000020000):\n",
    "    kronecker2(i,10708729)\n",
    "end = time.time()\n",
    "print(end - start)\n",
    "\n",
    "# start = time.time()\n",
    "# for i in range(1,100001):\n",
    "#     legendre1(i,10708729)\n",
    "# end = time.time()\n",
    "# print(end - start)"
   ]
  },
  {
   "cell_type": "markdown",
   "metadata": {},
   "source": [
    "# Question 4"
   ]
  },
  {
   "cell_type": "code",
   "execution_count": null,
   "metadata": {},
   "outputs": [],
   "source": []
  },
  {
   "cell_type": "code",
   "execution_count": 7,
   "metadata": {},
   "outputs": [],
   "source": [
    "def powerMod(n,power,p):\n",
    "    answer=1\n",
    "    iterate=n%p\n",
    "    while power>0:\n",
    "        if power%2!=0:\n",
    "            answer*=iterate\n",
    "            answer%=p\n",
    "            power-=1\n",
    "        power//=2\n",
    "        iterate*=iterate\n",
    "        iterate%=p\n",
    "    return answer"
   ]
  },
  {
   "cell_type": "markdown",
   "metadata": {},
   "source": [
    "# Chapter 5"
   ]
  },
  {
   "cell_type": "markdown",
   "metadata": {},
   "source": [
    "    let p-1 = 2**i * c\n",
    "    by Sylow, we have a 2-subgroup G of order 2**i\n",
    "    by Euler's criterion, a**((p-1)/2) = (a**c)**(2**(i-1)) = 1 mod p\n",
    "    (a**c) in G so say we could find a generator z of G\n",
    "    then there exists k s.t. a**c * z**k = 1 mod p\n",
    "    then a**(c+1) * z**(k) = a\n",
    "    so set x = a**((c+1)/2) * z**(k/2)"
   ]
  },
  {
   "cell_type": "code",
   "execution_count": 8,
   "metadata": {},
   "outputs": [],
   "source": [
    "#uses Fermat-Euler\n",
    "def squareInverse(n,p):\n",
    "    return powerMod(n,(p-3)//2,p)\n",
    "\n",
    "def nonSquareInverse(n,p):\n",
    "    return powerMod(n,p-2,p)"
   ]
  },
  {
   "cell_type": "code",
   "execution_count": 9,
   "metadata": {},
   "outputs": [],
   "source": [
    "#finds alpha, s s.t. p-1 = 2**alpha * s\n",
    "def decompose(p):\n",
    "    alpha=0\n",
    "    s=p-1\n",
    "    while s%2==0:\n",
    "        s//=2\n",
    "        alpha+=1\n",
    "    return alpha,s\n",
    "\n",
    "\n",
    "def question5(a,p):\n",
    "    alpha,s = decompose(p)\n",
    "    n = random.randint(2,p-1)\n",
    "    while kronecker1(n,p)==1:\n",
    "        n = random.randint(2,p-1)\n",
    "    b=powerMod(n,s,p)\n",
    "    almostA = powerMod(a,s,p)\n",
    "    k = almostSquare(p,b,almostA,alpha,s)\n",
    "    x = powerMod(a,(s+1)//2,p)*powerMod(b,k//2,p)%p\n",
    "    return x\n",
    "\n",
    "\n",
    "def almostSquare(p,b,almostA,alpha,s):\n",
    "    goal=squareInverse(almostA,p)\n",
    "    bInverse = nonSquareInverse(b,p)\n",
    "    answerList=[]\n",
    "    power=1\n",
    "    for i in range(1,alpha+1):\n",
    "        testRun=goal\n",
    "        k=0\n",
    "        for j in answerList:\n",
    "            if j==1:\n",
    "                testRun*=powerMod(bInverse,2**k,p)%p\n",
    "            k+=1\n",
    "        #should change this because we're pretending p-1 = 2**alpha\n",
    "        testRun=powerMod(testRun,(2**(alpha-power)),p)\n",
    "        if testRun==1:\n",
    "            answerList+=[0]\n",
    "        else:\n",
    "            answerList+=[1]\n",
    "        power+=1\n",
    "    answer=binary(answerList)\n",
    "    return answer\n",
    "\n",
    "def binary(answerList):\n",
    "    answerList=answerList[::-1]\n",
    "    answer=0\n",
    "    for i in answerList:\n",
    "        answer*=2\n",
    "        answer+=i\n",
    "    return answer"
   ]
  },
  {
   "cell_type": "code",
   "execution_count": 10,
   "metadata": {},
   "outputs": [
    {
     "data": {
      "text/plain": [
       "(3, 1338591)"
      ]
     },
     "execution_count": 10,
     "metadata": {},
     "output_type": "execute_result"
    }
   ],
   "source": [
    "decompose(10708729)"
   ]
  },
  {
   "cell_type": "code",
   "execution_count": 11,
   "metadata": {},
   "outputs": [
    {
     "name": "stdout",
     "output_type": "stream",
     "text": [
      "1 1 1\n",
      "2 1855179 2\n",
      "3 9316627 3\n",
      "4 2 4\n",
      "5 1848833 5\n",
      "6 4359214 6\n",
      "8 6998371 8\n",
      "9 3 9\n",
      "10 4072761 10\n",
      "11 9464082 11\n",
      "12 2784204 12\n",
      "15 3937081 15\n",
      "16 10708725 16\n",
      "17 7665993 17\n",
      "18 5565537 18\n",
      "19 8559407 19\n",
      "20 7011063 20\n"
     ]
    }
   ],
   "source": [
    "for i in range(1,21):\n",
    "    if kronecker1(i,easyP)==1:\n",
    "        j=question5(i,easyP)\n",
    "        print(i,j,j**2%easyP)"
   ]
  },
  {
   "cell_type": "markdown",
   "metadata": {},
   "source": [
    "# Question 6"
   ]
  },
  {
   "cell_type": "code",
   "execution_count": 12,
   "metadata": {},
   "outputs": [],
   "source": [
    "# class Polynomials:\n",
    "#     def __init__(self,coefficients):\n",
    "#         self.c = coefficients\n",
    "#     #returns the degree + 1\n",
    "#     def length(self):\n",
    "#         return len(self.c)\n",
    "#     #f=f+g\n",
    "#     def add(self, g):\n",
    "#         a=self.c\n",
    "#         b=g.c\n",
    "#         if len(a)>=len(b):\n",
    "#             b+=[0]*(len(a)-len(b))\n",
    "#         else:\n",
    "#             a+=[0]*(len(b)-len(a))\n",
    "#         for i in range(0,len(a)):\n",
    "#             a[i]+=b[i]\n",
    "#         self.c = a\n",
    "    \n",
    "#     def sub(self,g):\n",
    "#         a=self.c\n",
    "#         b=g.c\n",
    "#         if len(a)>=len(b):\n",
    "#             b+=[0]*(len(a)-len(b))\n",
    "#         else:\n",
    "#             a+=[0]*(len(b)-len(a))\n",
    "#         for i in range(0,len(a)):\n",
    "#             a[i]-=b[i]\n",
    "#         self.c = a\n",
    "#     #f = lf\n",
    "#     def scalar(self, coeff):\n",
    "#         for i in range(0,len(self.c)):\n",
    "#             self.c[i]*=coeff\n",
    "#     #f = f.g\n",
    "#     def mult(self,g):\n",
    "#         answer=Polynomials([])\n",
    "#         a=self.c\n",
    "#         n=len(a)\n",
    "#         b=g.c\n",
    "#         for i in range(0,len(b)):\n",
    "#             newA = list(a)\n",
    "#             for j in range(0,n):\n",
    "#                 newA[j]*=b[i]\n",
    "#             newA = [0]*i + newA\n",
    "#             newSelf=Polynomials(newA)\n",
    "#             answer.add(newSelf)\n",
    "#         self.c = answer.c\n",
    "#     #gets rid of leading zeroes\n",
    "#     def strip(self):\n",
    "#         i=self.c[-1]\n",
    "#         while i==0:\n",
    "#             self.c = self.c[:-1:]\n",
    "#             i=self.c[-1]\n",
    "#     #mods coefficients by p\n",
    "#     def mod(self,p):\n",
    "#         a=self.c\n",
    "#         for i in range(0,len(a)):\n",
    "#             self.c[i]=a[i]%p\n",
    "            \n",
    "        \n",
    "\n",
    "        \n",
    "\n",
    "#we have no information about n now, so assume non square\n",
    "def inverse(n,p):\n",
    "    return powerMod(n,p-2,p)"
   ]
  },
  {
   "cell_type": "code",
   "execution_count": 13,
   "metadata": {},
   "outputs": [],
   "source": [
    "#aim - find q, r s.t. f = qg + r\n",
    "#later on decide if want to return distinct r to f or change f to r\n",
    "# def divisionAlgorithm(f,g,p):\n",
    "#     rList=list(f.c)\n",
    "#     r=Polynomials(rList)\n",
    "# #     if f.length < g.length:\n",
    "# #         q=Polynomials([])\n",
    "# #         r=f\n",
    "# #         return q,r\n",
    "#     q=Polynomials([])\n",
    "#     #leading coefficient of g\n",
    "#     lcg = g.c[-1]\n",
    "#     lcgInverse = inverse(lcg,p)\n",
    "#     while r.length() >= g.length():\n",
    "#         print(r.c)\n",
    "#         print(g.c)\n",
    "#         fcg = r.c[-1]\n",
    "#         newPoly = Polynomials([0]*(r.length()-g.length()) + [(fcg*lcgInverse)%p])\n",
    "#         q.add(newPoly)\n",
    "#         newPoly.mult(g)\n",
    "#         r.sub(newPoly)\n",
    "#         r.mod(p)\n",
    "#         r.strip\n",
    "#     return q,r"
   ]
  },
  {
   "cell_type": "code",
   "execution_count": 14,
   "metadata": {},
   "outputs": [],
   "source": [
    "class Polynomial:\n",
    "    def __init__(self,coefficients,p):\n",
    "        self.c = coefficients\n",
    "        self.p = p\n",
    "        self.len = len(coefficients)\n",
    "        if self.len>0:\n",
    "            self.degree = max([power for power in coefficients])\n",
    "        else: self.degree = 0\n",
    "    def strip(self):\n",
    "        for i in range(0,self.degree+1):\n",
    "            if i in self.c and self.c[i]==0:\n",
    "                del self.c[i] \n",
    "    def scalar(self,const):\n",
    "        for i in self.c:\n",
    "            self.c[i]*=const\n",
    "    def add(self,g):\n",
    "        for i in self.c:\n",
    "            if i in g.c:\n",
    "                self.c[i]+=g.c[i]\n",
    "                self.c[i]%=self.p\n",
    "        for i in g.c:\n",
    "            if i not in self.c:\n",
    "                self.c[i]=g.c[i]\n",
    "        self.strip()\n",
    "    def sub(self,g):\n",
    "        for i in self.c:\n",
    "            if i in g.c:\n",
    "                self.c[i]-=g.c[i]\n",
    "                self.c[i]%=self.p\n",
    "        for i in g.c:\n",
    "            if i not in self.c:\n",
    "                self.c[i]=self.p-g.c[i]\n",
    "        self.strip()\n",
    "        self.len = len(self.c)\n",
    "        if self.len>0:\n",
    "            self.degree = max([power for power in self.c])\n",
    "        else: self.degree = 0\n",
    "    def mult(self,g):\n",
    "        answer={}\n",
    "        for i in self.c:\n",
    "            for j in g.c:\n",
    "                if i+j in answer:\n",
    "                    answer[i+j]+=(self.c[i]*g.c[j])\n",
    "                    answer[i+j]%=self.p\n",
    "                else:\n",
    "                    answer[i+j]=(self.c[i]*g.c[j])%self.p\n",
    "        self.c = answer\n",
    "        self.strip()"
   ]
  },
  {
   "cell_type": "code",
   "execution_count": 15,
   "metadata": {},
   "outputs": [
    {
     "data": {
      "text/plain": [
       "{3: 1, 2: 6, 1: 2, 0: 10}"
      ]
     },
     "execution_count": 15,
     "metadata": {},
     "output_type": "execute_result"
    }
   ],
   "source": [
    "g = Polynomial({3:1,2:6,1:2,0:10},17)\n",
    "a = Polynomial({0:1},17)\n",
    "g.mult(a)\n",
    "g.c"
   ]
  },
  {
   "cell_type": "code",
   "execution_count": 16,
   "metadata": {},
   "outputs": [],
   "source": [
    "def quotientIterate(f,g):\n",
    "    answer=Polynomial({},f.p)\n",
    "    while f.degree>=g.degree:\n",
    "        print(f.c, f.degree)\n",
    "        lead = f.c[f.degree]\n",
    "        gLead = g.c[g.degree]\n",
    "        gCoeff = (inverse(gLead,f.p)*lead)%f.p\n",
    "        a = Polynomial({(f.degree-g.degree):gCoeff},f.p)\n",
    "        newPoly = Polynomial(g.c,g.p)\n",
    "        newPoly.mult(a)\n",
    "        answer.add(newPoly)\n",
    "        f.sub(newPoly)\n",
    "    return answer.c, f.c"
   ]
  },
  {
   "cell_type": "code",
   "execution_count": 17,
   "metadata": {},
   "outputs": [
    {
     "name": "stdout",
     "output_type": "stream",
     "text": [
      "{3: 1, 2: 8, 1: 12, 0: 4} 3\n"
     ]
    },
    {
     "data": {
      "text/plain": [
       "({3: 1, 2: 6, 1: 2, 0: 10}, {2: 2, 1: 10, 0: 11})"
      ]
     },
     "execution_count": 17,
     "metadata": {},
     "output_type": "execute_result"
    }
   ],
   "source": [
    "quotientIterate(Polynomial({3:1,2:8,1:12,0:4},17),Polynomial({3:1,2:6,1:2,0:10},17))"
   ]
  },
  {
   "cell_type": "code",
   "execution_count": 18,
   "metadata": {},
   "outputs": [],
   "source": [
    "def euclidPoly(f,g):\n",
    "    p=f.p\n",
    "    toBeDecided=\"notDecided\"\n",
    "    while g.degree>0:\n",
    "        print(f.c,g.c)\n",
    "        a,b = quotientIterate(Polynomial(f.c,p),Polynomial(g.c,p))\n",
    "        print(f.c,g.c)\n",
    "        print(a,b)\n",
    "        print(f.c, \"=\", a, \"*\", g.c, \"+\", b)\n",
    "        f, g = Polynomial(g.c,p), Polynomial(b,p)\n",
    "    return"
   ]
  },
  {
   "cell_type": "code",
   "execution_count": 19,
   "metadata": {},
   "outputs": [
    {
     "name": "stdout",
     "output_type": "stream",
     "text": [
      "{3: 1, 2: 8, 1: 12, 0: 4} {3: 1, 2: 6, 1: 2, 0: 10}\n",
      "{3: 1, 2: 8, 1: 12, 0: 4} 3\n",
      "{2: 2, 1: 10, 0: 11} {3: 1, 2: 6, 1: 2, 0: 10}\n",
      "{3: 1, 2: 6, 1: 2, 0: 10} {2: 2, 1: 10, 0: 11}\n",
      "{2: 2, 1: 10, 0: 11} = {3: 1, 2: 6, 1: 2, 0: 10} * {3: 1, 2: 6, 1: 2, 0: 10} + {2: 2, 1: 10, 0: 11}\n",
      "{3: 1, 2: 6, 1: 2, 0: 10} {2: 2, 1: 10, 0: 11}\n",
      "{3: 1, 2: 6, 1: 2, 0: 10} 3\n",
      "{2: 1, 1: 5, 0: 10} 2\n",
      "{0: 13} {2: 2, 1: 10, 0: 11}\n",
      "{3: 1, 2: 6, 1: 2, 0: 14} {0: 13}\n",
      "{0: 13} = {3: 1, 2: 6, 1: 2, 0: 14} * {2: 2, 1: 10, 0: 11} + {0: 13}\n"
     ]
    }
   ],
   "source": [
    "euclidPoly(Polynomial({3:1,2:8,1:12,0:4},17),Polynomial({3:1,2:6,1:2,0:10},17))"
   ]
  },
  {
   "cell_type": "code",
   "execution_count": 20,
   "metadata": {},
   "outputs": [],
   "source": [
    "# what if we give up on classes and just do it in lists?\n",
    "def degree(f):\n",
    "    if len(f)>0:\n",
    "        return max([i for i in f])\n",
    "    return -1\n",
    "\n",
    "def strip(f,p):\n",
    "    # maybe a bit inefficient to bother modding here, it should probably already be done\n",
    "    for i in range(0,degree(f)+1):\n",
    "        if i in f and f[i]%p==0:\n",
    "            del f[i]\n",
    "    return f\n",
    "\n",
    "def dictAdd(f,g,p):\n",
    "    answer = dict(f)\n",
    "    for i in g:\n",
    "        if i in answer:\n",
    "            answer[i]+=g[i]\n",
    "            answer[i]%=p\n",
    "        else:\n",
    "            answer[i]=g[i]\n",
    "    answer = strip(answer,p)\n",
    "    return answer\n",
    "            \n",
    "def dictScal(f,const,p):\n",
    "    answer={}\n",
    "    for i in f:\n",
    "        answer[i]=f[i]*const%p\n",
    "    return answer\n",
    "\n",
    "def dictMult(f,g,p):\n",
    "    answer={}\n",
    "    for i in f:\n",
    "        for j in g:\n",
    "            if i+j in answer:\n",
    "                answer[i+j]+=(f[i]*g[j])%p\n",
    "            else:\n",
    "                answer[i+j]=(f[i]*g[j])%p\n",
    "    answer = strip(answer,p)\n",
    "    return answer\n",
    "\n",
    "\n"
   ]
  },
  {
   "cell_type": "code",
   "execution_count": 21,
   "metadata": {},
   "outputs": [],
   "source": [
    "def quotient(f,g,p):\n",
    "    degF = degree(f)\n",
    "    degG = degree(g)\n",
    "    q = {}\n",
    "    while degF >= degG:\n",
    "        lead = f[degF]\n",
    "        gLead = g[degG]\n",
    "        gCoeff = (inverse(gLead,p)*lead)%p\n",
    "        a = {(degF-degG):gCoeff}\n",
    "        newPoly = dictMult(g,a,p)\n",
    "        q = dictAdd(q,a,p)\n",
    "        newPoly = dictScal(newPoly,-1,p)\n",
    "        f = dictAdd(f,newPoly,p)\n",
    "        degF = degree(f)\n",
    "        degG = degree(g)\n",
    "    return f,q"
   ]
  },
  {
   "cell_type": "code",
   "execution_count": 22,
   "metadata": {},
   "outputs": [
    {
     "data": {
      "text/plain": [
       "({2: 2, 1: 10, 0: 11}, {0: 1})"
      ]
     },
     "execution_count": 22,
     "metadata": {},
     "output_type": "execute_result"
    }
   ],
   "source": [
    "quotient({3:1,2:8,1:12,0:4},{3:1,2:6,1:2,0:10},17)"
   ]
  },
  {
   "cell_type": "code",
   "execution_count": 23,
   "metadata": {},
   "outputs": [],
   "source": [
    "def euclid(f,g,p):\n",
    "    degF = degree(f)\n",
    "    degG = degree(g)\n",
    "    while degG>=0:\n",
    "        r,q = quotient(f,g,p)\n",
    "        print(f,\"=\",q,\"*\",g,\"+\",r)\n",
    "        f,g=g,r\n",
    "        degF = degree(f)\n",
    "        degG = degree(g)\n",
    "    return f\n"
   ]
  },
  {
   "cell_type": "code",
   "execution_count": 24,
   "metadata": {},
   "outputs": [
    {
     "name": "stdout",
     "output_type": "stream",
     "text": [
      "{3: 1, 2: 8, 1: 12, 0: 4} = {0: 1} * {3: 1, 2: 6, 1: 2, 0: 10} + {2: 2, 1: 10, 0: 103}\n",
      "{3: 1, 2: 6, 1: 2, 0: 10} = {1: 55, 0: 55} * {2: 2, 1: 10, 0: 103} + {0: 13}\n",
      "{2: 2, 1: 10, 0: 103} = {2: 84, 1: 93, 0: 75} * {0: 13} + {}\n"
     ]
    },
    {
     "data": {
      "text/plain": [
       "{0: 13}"
      ]
     },
     "execution_count": 24,
     "metadata": {},
     "output_type": "execute_result"
    }
   ],
   "source": [
    "euclid({3:1,2:8,1:12,0:4},{3:1,2:6,1:2,0:10},109)"
   ]
  },
  {
   "cell_type": "code",
   "execution_count": 25,
   "metadata": {},
   "outputs": [
    {
     "name": "stdout",
     "output_type": "stream",
     "text": [
      "{3: 1, 2: 2, 1: 6, 0: 8} = {0: 1} * {3: 1, 2: 11, 1: 1, 0: 2} + {2: 122, 1: 5, 0: 6}\n",
      "{3: 1, 2: 11, 1: 1, 0: 2} = {1: 29, 0: 44} * {2: 122, 1: 5, 0: 6} + {}\n"
     ]
    },
    {
     "data": {
      "text/plain": [
       "{2: 122, 1: 5, 0: 6}"
      ]
     },
     "execution_count": 25,
     "metadata": {},
     "output_type": "execute_result"
    }
   ],
   "source": [
    "euclid({3:1,2:2,1:6,0:8},{3:1,2:11,1:1,0:2},131)"
   ]
  },
  {
   "cell_type": "code",
   "execution_count": 26,
   "metadata": {},
   "outputs": [
    {
     "name": "stdout",
     "output_type": "stream",
     "text": [
      "{3: 1, 2: 3, 1: 7, 0: 1} = {0: 1} * {3: 1, 2: 3, 1: 4, 0: 12} + {1: 3, 0: 146}\n",
      "{3: 1, 2: 3, 1: 4, 0: 12} = {2: 105, 1: 72, 0: 56} * {1: 3, 0: 146} + {}\n"
     ]
    },
    {
     "data": {
      "text/plain": [
       "{1: 3, 0: 146}"
      ]
     },
     "execution_count": 26,
     "metadata": {},
     "output_type": "execute_result"
    }
   ],
   "source": [
    "euclid({3:1,2:3,1:7,0:1},{3:1,2:3,1:4,0:12},157)"
   ]
  },
  {
   "cell_type": "code",
   "execution_count": 27,
   "metadata": {},
   "outputs": [],
   "source": [
    "# we want to find gcd(x^p-x,f) = gcd((x^p-x)%f,f)\n",
    "def repeatSquareMod(p,f):\n",
    "    n=p\n",
    "    answer = {0:1}\n",
    "    r={1:1}\n",
    "    while n>0:\n",
    "        r = quotient(r,f,p)[0]\n",
    "        if r=={}:\n",
    "            break\n",
    "        if n%2!=0:\n",
    "            n-=1\n",
    "            answer = dictMult(answer,r,p)\n",
    "        n//=2\n",
    "        r = dictMult(r,r,p)\n",
    "    answer = dictAdd(answer,{1:-1},p)\n",
    "    answer = quotient(answer,f,p)[0]\n",
    "    return answer"
   ]
  },
  {
   "cell_type": "code",
   "execution_count": 30,
   "metadata": {},
   "outputs": [
    {
     "name": "stdout",
     "output_type": "stream",
     "text": [
      "{}\n",
      "{1: 129}\n",
      "{}\n",
      "{}\n"
     ]
    }
   ],
   "source": [
    "for i in range(1,5):\n",
    "    print(repeatSquareMod(131,{2:1,0:-i}))"
   ]
  },
  {
   "cell_type": "code",
   "execution_count": null,
   "metadata": {},
   "outputs": [],
   "source": []
  }
 ],
 "metadata": {
  "kernelspec": {
   "display_name": "Python 3",
   "language": "python",
   "name": "python3"
  },
  "language_info": {
   "codemirror_mode": {
    "name": "ipython",
    "version": 3
   },
   "file_extension": ".py",
   "mimetype": "text/x-python",
   "name": "python",
   "nbconvert_exporter": "python",
   "pygments_lexer": "ipython3",
   "version": "3.7.1"
  }
 },
 "nbformat": 4,
 "nbformat_minor": 2
}
